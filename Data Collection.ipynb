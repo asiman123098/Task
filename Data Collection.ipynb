{
 "cells": [
  {
   "cell_type": "code",
   "execution_count": 4,
   "id": "e47471d4",
   "metadata": {},
   "outputs": [
    {
     "name": "stdout",
     "output_type": "stream",
     "text": [
      "0\n",
      "100\n",
      "200\n",
      "300\n"
     ]
    }
   ],
   "source": [
    "import csv\n",
    "import requests\n",
    "f = csv.writer(open('REKTDATABASE.csv', 'w+',  encoding=\"utf-8\"))\n",
    "f.writerow(['ID', 'Project', 'Category', 'TypeOfIssue', \"FundLost\", \"FundsReturned\", \"FundsRecovered\", \"IsVerifiedSourceCode\", \"IsPublicedTeam\", \"Date\"])\n",
    "i = 0\n",
    "\n",
    "while True:\n",
    "    if i % 100 == 0:\n",
    "        print(i)\n",
    "    url = \"https://prodrekt.defiyield.app/scam_database?sortField=fundsLost&sort=desc&sortDirection=desc&limit=10&page=\" + str(i)\n",
    "    data = requests.request(\"GET\", url).json()\n",
    "    if len(data[\"items\"]) == 0:\n",
    "        break\n",
    "        \n",
    "    for j in range(len(data[\"items\"])):\n",
    "        ID = data[\"items\"][j][\"id\"]\n",
    "        Project = data[\"items\"][j][\"project_name\"]\n",
    "        Category = data[\"items\"][j][\"name_categories\"]\n",
    "        TypeOfIssue = data[\"items\"][j]['scam_type'][\"type\"]\n",
    "        FundLost = data[\"items\"][j]['funds_lost']\n",
    "        FundsReturned = data[\"items\"][j]['funds_returned']\n",
    "        FundsRecovered = data[\"items\"][j]['funds_recovered']\n",
    "        IsVerifiedSourceCode = data[\"items\"][j]['is_verified_source_code']\n",
    "        IsPublicedTeam = data[\"items\"][j]['is_public_team']\n",
    "        Date = data[\"items\"][j][\"date\"]\n",
    "        f.writerow([ID, Project, Category, TypeOfIssue, FundLost, FundsReturned, FundsRecovered, IsVerifiedSourceCode, IsPublicedTeam, Date])\n",
    "    i += 1"
   ]
  },
  {
   "cell_type": "code",
   "execution_count": null,
   "id": "2d9b1bbe",
   "metadata": {},
   "outputs": [],
   "source": []
  }
 ],
 "metadata": {
  "kernelspec": {
   "display_name": "Python 3 (ipykernel)",
   "language": "python",
   "name": "python3"
  },
  "language_info": {
   "codemirror_mode": {
    "name": "ipython",
    "version": 3
   },
   "file_extension": ".py",
   "mimetype": "text/x-python",
   "name": "python",
   "nbconvert_exporter": "python",
   "pygments_lexer": "ipython3",
   "version": "3.9.12"
  }
 },
 "nbformat": 4,
 "nbformat_minor": 5
}
